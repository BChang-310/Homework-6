{
 "cells": [
  {
   "cell_type": "markdown",
   "metadata": {},
   "source": [
    "# PGE 310 2021 Homework 4 {-}"
   ]
  },
  {
   "cell_type": "markdown",
   "metadata": {},
   "source": [
    "This homework is divided into 5 problems: \n",
    "\n",
    "  - Problem 1 is designed to help you practice logic flow with if, elif, and else statments.\n",
    "  - Problem 2 will help you practice for loops with a fun code deciphering challenge.\n",
    "  - Problem 3 covers a common type of problem in science and engineering called a parameter sweep. This can be done nicely with a for loop!\n",
    "  - Problem 4 will give you practice with while loops in the context of a problem with prime numbers\n",
    "  - Finally, Problem 5 will cover how to use for loops to code different types of summation and product formulas.\n",
    "\n",
    "The link to the assignment on GitHub is posted on Canvas. \n",
    "\n",
    "**New for this homework:** \\\n",
    "**Please submit this assignment as a Jupyter Notebook file (.ipynb) on Github classroom.** \n",
    "Don't forget that you can still develop your code in Spyder. If you do use Spyder, copy and paste the required parts of your finished code from Spyder into the correct cells of the Jupyter Notebook template. We want you to practice submitting your code in a presentable format! \n",
    "\n",
    "For more comprehensive instructions on how to test and submit your code, \n",
    "refer to the posted instructions document on Canvas.\n",
    "\n",
    "Logic flow and loops are where many interesting programming challenges can be solved and automated! And don't forget that we're here to help! Feel free to contact Dr. P, Alex, Bernie, or Ziming with problems, questions, or comments. \n"
   ]
  },
  {
   "cell_type": "code",
   "execution_count": null,
   "metadata": {},
   "outputs": [],
   "source": [
    "import numpy as np\n",
    "import matplotlib.pyplot as plt\n",
    "from test_HW4 import test_solution, to_ascii, test_ascii_code, test_x, test_A, test_B"
   ]
  },
  {
   "cell_type": "markdown",
   "metadata": {},
   "source": [
    "# Problem 1: Grade Converter {-}\n",
    "In this problem, you will create a function that automatically converts a numerical grade into a letter grade using logic flow.\n",
    "\n",
    "- First, define a function called ```grade_converter()``` with an input argument that represents the \"percentage grade\". The \"percentage grade\" variable will represent the numerical grade as a number between 0 and 100. \n",
    "\n",
    "- Next, assign a variable to store the letter grade as a string. Using ```if```, ```elif```, and ```else``` statements, go through the different letter grade cutoffs below and assign the proper letter grade. \n",
    "\n",
    "- Finally, return the variable that is storing the letter grade from the function."
   ]
  },
  {
   "cell_type": "markdown",
   "metadata": {},
   "source": [
    "Your function should return the following letter grades as a string given these numerical inputs:\n",
    "\n",
    "* 90 or higher should be an “A”\n",
    "* 80 - 89 should be a “B”\n",
    "* 70 - 79 should be a “C”\n",
    "* 65 - 69 should be a “D”\n",
    "* Anything below a 65 should be an “F”"
   ]
  },
  {
   "cell_type": "code",
   "execution_count": null,
   "metadata": {},
   "outputs": [],
   "source": [
    "# Create your function here:\n",
    "\n",
    "\n",
    "# The result should print an \"A\"\n",
    "number_grade = 92\n",
    "letter_grade = grade_converter(number_grade)\n",
    "print(f'A percentage grade of {number_grade} has a letter grade of {letter_grade}')\n",
    "\n",
    "# The result should print a \"B\"\n",
    "number_grade = 81\n",
    "letter_grade = grade_converter(number_grade)\n",
    "print(f'A percentage grade of {number_grade} has a letter grade of {letter_grade} \\n\\n')\n",
    "\n",
    "test_solution(to_ascii(grade_converter(90).upper()), '1_1')\n",
    "test_solution(to_ascii(grade_converter(89).upper()), '1_2')\n",
    "test_solution(to_ascii(grade_converter(70).upper()), '1_3')\n",
    "test_solution(to_ascii(grade_converter(65).upper()), '1_4')\n",
    "test_solution(to_ascii(grade_converter(0).upper()), '1_5')"
   ]
  },
  {
   "cell_type": "markdown",
   "metadata": {},
   "source": [
    "# Problem 2: Decipher this ASCII message {-}\n",
    "\n",
    "In this problem, we have given you a coded message that needs to be deciphered! \n",
    "\n",
    "The coded message was stored using [ASCII](https://en.wikipedia.org/wiki/ASCII) encoded characters. ASCII stands for the American Standard Code for Information Interchange, and it was created to standardize how text and characters are represented/read electronically by computers and other types of electronics.\n",
    "\n",
    "Since ASCII is very widely used, Python has built in functions to convert from ASCII codes to strings with ```chr()``` and strings to ASCII code with ```ord()```. Note that ```chr()``` takes in one number at a time as an argument and returns the corresponding ASCII letter as a string. For example, ```chr(65)``` will return ```'A'```. Or in reverse, ```ord('A')``` will return ```65```. \n",
    "\n",
    "Here is what we would like you to do:\n",
    "- Please create a function called ```decode_ascii_message()``` that takes in the given coded message as an argument.\n",
    "- Then (inside the function), use a for loop to convert each number in the coded message to the correct character string using the ```chr()``` Python function.\n",
    "- Add the resulting converted character string to a variable that saves the decoded message string.\n",
    "- Finally, return the decoded message.\n",
    "\n",
    "(Please note that ASCII shouldn't be used for actual crpytography since it is so widely used!)"
   ]
  },
  {
   "cell_type": "code",
   "execution_count": null,
   "metadata": {},
   "outputs": [],
   "source": [
    "ascii_code_message = [67, 111, 100, 105, 110, 103, 32, 105, 115, 32, 102, 117, 110, 33, 32, 58, 41]\n",
    "\n",
    "# Create your function here:\n",
    "\n",
    "\n",
    "my_fun_message = decode_ascii_message(ascii_code_message)\n",
    "print(my_fun_message, '\\n')\n",
    "\n",
    "test_solution(to_ascii(decode_ascii_message(test_ascii_code)), '2')"
   ]
  },
  {
   "cell_type": "markdown",
   "metadata": {},
   "source": [
    "# Problem 3: Parameter Sweep of a Dynamic Potential Well {-}\n",
    "This problem guides you through a very practical case of when to use a for loop to call a user defined function. Typically, this is a good idea when you need to call a function multiple times with different input parameters (this is also known as a parameter sweep). In addition, you can also use the for loop to automate plotting. Let's practice both!\n",
    "\n",
    "For this problem, you will graph various states of the energy potential function, $y(r,x)$, of a dynamic system to understand how the stable points change (minimum points on the graph) by changing the parameter, $r$. Here is what $y(r,x)$ looks like:\n",
    "\n",
    "$y(r,x) = \\frac{-1}{2}rx^2 + \\frac{1}{4}x^4$\n",
    "\n",
    "1) First, we will start by creating the function to calculate potential:\n",
    "\n",
    "  - Create a function called ```potential()``` that takes in input arguments ```r``` and ```x```\n",
    "  - Inside ```potential()``` code the function above, $y(r,x)$, and return its output.\n",
    "\n",
    "2) Once the ```potential()``` function is created, you can set up a parameter sweep of five $r$ values outside the function:\n",
    "\n",
    "  - Create an array of $r$ values called ```r``` that includes integers from -2 to 2 inclusive. There will be a total of 5 values, including zero.\n",
    "  - Also create an array of $x$ values called ```x``` from -3 to 3 inclusive with 75 total $x$ values (Hint: use ```np.linspace()```).\n",
    "  - Initialize a figure using ```plt.figure()``` (we will make a subplot with five columns, one for each r value, in the next steps).\n",
    "\n",
    "3) Now we can code the parameter sweep. Inside a ```for``` loop please do the following for each $r$ value in ```r```:\n",
    "  - Calculate the values of potential for the current $r$ value using ```potential()```\n",
    "  - Tell Python that you are making a subplot with 1 row and 5 columns using ```plt.subplot()```. Use the index of the for loop to tell ```plt.subplot()``` which subplot position you are currently plotting.  \n",
    "  - Plot the current values of potential vs ```x``` (potential on y-axis, ```x``` on x-axis).\n",
    "  - Finally, please use the following plot formatting for each subplot:\n",
    "   - Set the y limits to be [-1.5,2]\n",
    "   - Activate the grid\n",
    "   - Label the x-axis\n",
    "   - Label the y-axis\n",
    "   - Add a title that includes which value of ```r``` is currently being plotted\n",
    "\n",
    "4) On the outside of your for loop, please add these lines of code for nice plot formatting (feel free to change the super title):\n",
    "\n",
    "```plt.suptitle('Potential Well Parameter Sweep', fontsize=20)  # Title for the whole figure```\n",
    "\n",
    "```plt.tight_layout()  # Fixes plot formatting```\n",
    "\n",
    "\n",
    "\n",
    "Here is an example of what the figure can look like:\n",
    "\n",
    "(For those interested, when $r\\leq0$ notice how the single stable point at $x=0$ (the minimum) remains a stable point. When $r>0$, the point at $x=0$ becomes unstable (local maximum) and two other stable points form on both sides of $x=0$. Cool!)\n",
    "<img src = 'potential_well.png' width=1000>"
   ]
  },
  {
   "cell_type": "code",
   "execution_count": null,
   "metadata": {},
   "outputs": [],
   "source": [
    "# 1) Create potential() here:\n",
    "\n",
    "\n",
    "# 2) Initialize the r and x arrays here, outside the function. Also create the figure for the subplots.\n",
    "\n",
    "\n",
    "# 3) Create the for loop here:\n",
    "\n",
    "\n",
    "# 4) Some plot formatting\n",
    "plt.suptitle('Potential Well Parameter Sweep', fontsize=20)\n",
    "plt.tight_layout()\n",
    "\n",
    "test_solution(potential(2,x), '3')"
   ]
  },
  {
   "cell_type": "markdown",
   "metadata": {},
   "source": [
    "# Problem 4: Finding Twin Primes with a While Loop {-}\n",
    "[Twin Prime](https://en.wikipedia.org/wiki/Twin_prime) pairs are two consecutive prime numbers that have a difference of two between them. For example, 3 and 5 along with 17 and 19 are both twin prime pairs. \n",
    "\n",
    "For this problem, please find the first 10 twin prime pairs:\n",
    "\n",
    "- We have provided two functions to help you out:\n",
    "    - ```is_prime()``` takes in a number, ```N```, and returns ```True``` if ```N``` is a prime number or ```False``` if ```N``` is not prime.\n",
    "    - ```next_prime()``` takes in a number, ```N```, and finds the next smallest prime number larger than ```N```.\n",
    "    \n",
    "- In the cell below the given functions, please find the first 10 twin primes:\n",
    "    1) Initialize the variable ```twin_primes``` with 10 rows and 2 columns (Hint: use ```np.empty()``` or ```np.zeros()```). Each row will be used to store a set of twin prime pairs; the first column will be used to store the smaller twin prime of the set and the second column for the larger twin prime of the set. \n",
    "    2) Initialize the first prime number, 2, as a variable called ```first_prime```.\n",
    "    3) Use a while loop to find the first 10 twin prime pairs. Here's a conceptual outline:\n",
    "     - Find the next prime number using ```next_prime()```.\n",
    "     - Check if the next prime and the ```first_prime``` have a difference of 2\n",
    "     - If the difference is two, store the twin primes in ```twin_primes```\n"
   ]
  },
  {
   "cell_type": "code",
   "execution_count": null,
   "metadata": {},
   "outputs": [],
   "source": [
    "import numpy as np\n",
    "\n",
    "# Function to check if a number, N, is prime\n",
    "def is_prime(N):\n",
    "    \n",
    "    prime = True\n",
    "    \n",
    "    if N < 2:\n",
    "        prime = False\n",
    "    \n",
    "    elif 0 in (N % np.arange(2,N)):\n",
    "        prime = False\n",
    "        \n",
    "    return prime\n",
    "\n",
    "\n",
    "# Find the next smallest prime number larger than N\n",
    "def next_prime(N):\n",
    "    next_num = N + 1\n",
    "    is_next_num_prime = is_prime(next_num)\n",
    "    \n",
    "    while is_next_num_prime == False:\n",
    "        next_num += 1\n",
    "        is_next_num_prime = is_prime(next_num)\n",
    "        \n",
    "    return next_num"
   ]
  },
  {
   "cell_type": "code",
   "execution_count": null,
   "metadata": {},
   "outputs": [],
   "source": [
    "# 1) and 2) Initialize twin_primes, first_prime, and variables for while loop\n",
    "\n",
    "# 3) While loop to find the first 10 twin prime pairs\n",
    "\n",
    "        \n",
    "print('First 10 twin primes: \\n\\n', twin_primes, '\\n')\n",
    "\n",
    "test_solution(twin_primes, '4')"
   ]
  },
  {
   "cell_type": "markdown",
   "metadata": {},
   "source": [
    "# Problem 5: Sums and Products {-}\n",
    "\n",
    "In this last problem, you will practice implementing sum and product formulas using for loops. Practicing these types of problems is important for implementing series expansions (i.e. Taylor series) of functions in code! We will also give you a bit more practice converting between 1-indexing and 0-indexing.\n",
    "\n",
    "Consider the following vector $x$ and matrices $A$ and $B$:\n",
    "\n",
    "$$x = \\begin{bmatrix} 3 & 2 & 1 & 6 & 5 & 4 & 8 & 9 & 3\\end{bmatrix}$$\n",
    "\n",
    "$$A = \\begin{bmatrix} \n",
    "3 & 2 & 1 & 0 \\\\\n",
    "7 & 9 & 5 & 4 \\\\\n",
    "11 & 12 & 11 & 14\n",
    "\\end{bmatrix}$$\n",
    "\n",
    "$$B = \\begin{bmatrix} \n",
    "13 & 12 & 11 & 10 \\\\\n",
    "71 & 61 & 41 & 31 \\\\\n",
    "1 & 2 & 3 & 4\n",
    "\\end{bmatrix}$$\n",
    "\n"
   ]
  },
  {
   "cell_type": "markdown",
   "metadata": {},
   "source": [
    "Notes: \n",
    "\n",
    "\"$\\prod_{}$\" symbol is for a product and is analogous to the summation symbol. \\\n",
    "e.g.: \\\n",
    "$\\sum_{i=1}^{10} i=1+2+3+\\dots+10$, \\\n",
    "$\\prod_{i=1}^{40} i=1\\times 2\\times 3 \\times\\dots\\times 40$\n",
    "\n",
    "$A_{ij}$ means row \"$i$\" and column \"$j$\" of matrix A.\n",
    "\n",
    "**Important:** All the indices in the math expressions are in Python indexing (0-indexing). For example, if you want to get the value $x_4$, then in Python you can use ```x[4]```.\n",
    "\n",
    "Here's a short example:\n",
    "$$\\sum_{i=0}^{2} x_i = 3 + 2 + 1 = 6$$\n",
    "\n",
    "In Python here's one way of coding this:\n",
    "```\n",
    "mysum = 0\n",
    "for i in range(0,3):\n",
    "    mysum += x[i]\n",
    "```"
   ]
  },
  {
   "cell_type": "markdown",
   "metadata": {},
   "source": [
    "First, create numpy arrays for $x$, $A$, and $B$ in the cell below."
   ]
  },
  {
   "cell_type": "code",
   "execution_count": null,
   "metadata": {},
   "outputs": [],
   "source": [
    "x = \n",
    "A = \n",
    "B = "
   ]
  },
  {
   "cell_type": "markdown",
   "metadata": {},
   "source": [
    "## 5.1 {-}\n",
    "\n",
    "Please code the following formula using a for loop:\n",
    "\n",
    "$$\\prod_{i=3}^7 \\frac{(x_{i+1}^2+1)}{i^2}$$\n"
   ]
  },
  {
   "cell_type": "code",
   "execution_count": null,
   "metadata": {},
   "outputs": [],
   "source": [
    "def problem5_1(x):\n",
    "    # Please add your code here\n",
    "    \n",
    "    return\n",
    "\n",
    "\n",
    "answer5_1 = problem5_1(x)\n",
    "print(answer5_1, '\\n')\n",
    "\n",
    "test_solution(np.asarray(problem5_1(test_x)), '5_1')"
   ]
  },
  {
   "cell_type": "markdown",
   "metadata": {},
   "source": [
    "## 5.2 {-}\n",
    "Please code the following formula using for loops:\n",
    "\n",
    "$$\\sum_{i=0}^2\\left(A_{2i}\\left(\\sum_{j=0}^1 A_{0j}B_{ji}\\right)\\right)\n",
    "$$"
   ]
  },
  {
   "cell_type": "code",
   "execution_count": null,
   "metadata": {},
   "outputs": [],
   "source": [
    "def problem5_2(A,B):\n",
    "    # Please add your code here\n",
    "\n",
    "    return\n",
    "\n",
    "answer5_2 = problem5_2(A,B)\n",
    "print(answer5_2, '\\n')\n",
    "\n",
    "test_solution(np.asarray(problem5_2(test_A, test_B)), '5_2')"
   ]
  }
 ],
 "metadata": {
  "kernelspec": {
   "display_name": "Python 3 (ipykernel)",
   "language": "python",
   "name": "python3"
  },
  "language_info": {
   "codemirror_mode": {
    "name": "ipython",
    "version": 3
   },
   "file_extension": ".py",
   "mimetype": "text/x-python",
   "name": "python",
   "nbconvert_exporter": "python",
   "pygments_lexer": "ipython3",
   "version": "3.8.11"
  }
 },
 "nbformat": 4,
 "nbformat_minor": 4
}
