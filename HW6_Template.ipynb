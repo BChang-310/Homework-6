{
 "cells": [
  {
   "cell_type": "markdown",
   "id": "6d15bbff-b2f8-4007-8500-572622477915",
   "metadata": {},
   "source": [
    "# PGE 310 2021 Fall Homework 4 Solution"
   ]
  },
  {
   "cell_type": "markdown",
   "id": "1789eb1a-27f0-401f-9dfb-491c91a02dc3",
   "metadata": {},
   "source": [
    "This homework will help you practice setting up and solving linear systems of equations both by hand and by programming:\n",
    "\n",
    "  - The first part contains some questions about LU and forming systems of equations. This part is to be solved by hand and is posted separately on Canvas.\n",
    "  - Inside this document, there is one programming question for you to complete. It will help give you practice with LU decomoposition, and you will learn a neat method that uses LU decomposition to solve for the inverse of a matrix.\n",
    "\n",
    "The GitHub link to this part of the assignment is posted on Canvas. \n",
    "\n",
    "**Please submit this part of the assignment as a Jupyter Notebook file (.ipynb) on Canvas in addition to the questions you solved by hand.** \n",
    "\n",
    "Learning LU decomposition can be very helpful and really speed up your code! It can be tricky though keeping track of all the different loops and moving parts. As always, feel free to contact Dr. P, Alex, Bernie, or Ziming with problems, questions, or comments!"
   ]
  },
  {
   "cell_type": "markdown",
   "id": "a7f7fd05-9b27-48da-bf65-48686d005440",
   "metadata": {},
   "source": [
    "# Problem 1: Finding an Inverse with LU Decomposition\n",
    "In this problem, you will create a function that takes the inverse of a function using LU decomposition.\n",
    "\n",
    "Below we defined a function called ```lu_inverse()``` that takes in a matrix ```A``` and returns ```L``` and ```U```, the LU decomposition of A. This function is already coded for you! Next, we defined a function called ```solve_system_with_lu()``` that takes in ```L```, ```U```, and ```b```. Here is what we would like you to do:\n",
    "- Your first goal is to code the function ```solve_system_with_lu()``` so that it returns the solution ```x``` of an aribtrary problem $Ax=b$ using the LU decomposition of A.\n",
    "- Next, use your LU decomposition code to find the inverse of A.\n",
    "\n",
    "Hint: see slide 39 in Lecture 6 for the concept of finding the inverse using LU decomposition. The [makeup lecture](https://utexas.instructure.com/courses/1312545/discussion_topics/4080795) recorded a couple weeks ago will be of use too."
   ]
  },
  {
   "cell_type": "code",
   "execution_count": 3,
   "id": "c57462fb-28e7-4e95-93eb-06def4f47c0a",
   "metadata": {},
   "outputs": [],
   "source": [
    "import numpy as np\n",
    "\n",
    "\n",
    "def lu_decomposition(A):\n",
    "\n",
    "    # Initialize A and b\n",
    "    L = np.zeros(A.shape)\n",
    "\n",
    "    # LU decomposition algorithm\n",
    "    # Row reduce A so that it becomes U and create L\n",
    "    # i = row, j = column\n",
    "    for i in range(len(A)):\n",
    "        L[i,i] = 1\n",
    "        for j in range(i+1, len(A[0,:])):\n",
    "            c = A[j, i]/A[i, i]\n",
    "            L[j, i] = c\n",
    "            A[j, :] = -c*A[i, :] + A[j, :]\n",
    "\n",
    "    U = A  # U is A once row reduced\n",
    "    \n",
    "    return L, U\n",
    "\n",
    "def solve_system_with_lu(L, U, b):\n",
    "    \n",
    "    # Code back substitution for L here, solve for d\n",
    "\n",
    "    # Code Back substitution for U here, solve for x\n",
    "\n",
    "    return x\n",
    "\n"
   ]
  },
  {
   "cell_type": "code",
   "execution_count": 13,
   "id": "88f32123-3e08-4df2-8be5-66345a628b63",
   "metadata": {},
   "outputs": [
    {
     "name": "stdout",
     "output_type": "stream",
     "text": [
      "A_inverse LU = \n",
      " [[-0.33333333 -0.33333333 -0.66666667]\n",
      " [-0.         -0.5        -1.25      ]\n",
      " [-0.         -0.         -0.5       ]] \n",
      "\n",
      "A_inverse numpy = \n",
      " [[-0.33333333 -0.33333333 -0.66666667]\n",
      " [-0.         -0.5        -1.25      ]\n",
      " [-0.         -0.         -0.5       ]]\n"
     ]
    }
   ],
   "source": [
    "# Create A matrix\n",
    "A = np.array([[3, 2, 1, 1, 4], \n",
    "              [6, 6, 7, 2, 1], \n",
    "              [3, 4, 4, 1, 8],\n",
    "              [1, 7, 0, 4, 3],\n",
    "              [9, 2, 5, 1, 5]])\n",
    "\n",
    "# Create b vectors and initialize A_inverse, loop through b vectors to find A_inverse\n",
    "\n",
    "\n",
    "# Compare coded solution with Numpy\n",
    "print(\"A_inverse LU = \\n\", A_inverse, '\\n')\n",
    "print(\"A_inverse numpy = \\n\", np.linalg.inv(A))"
   ]
  },
  {
   "cell_type": "code",
   "execution_count": null,
   "id": "a0f33785-3a6e-4566-93df-7a3350b9f8f8",
   "metadata": {},
   "outputs": [],
   "source": []
  },
  {
   "cell_type": "code",
   "execution_count": null,
   "id": "81a1278a-23c8-40db-9d10-daa0c9acf1d8",
   "metadata": {},
   "outputs": [],
   "source": []
  }
 ],
 "metadata": {
  "kernelspec": {
   "display_name": "Python 3",
   "language": "python",
   "name": "python3"
  },
  "language_info": {
   "codemirror_mode": {
    "name": "ipython",
    "version": 3
   },
   "file_extension": ".py",
   "mimetype": "text/x-python",
   "name": "python",
   "nbconvert_exporter": "python",
   "pygments_lexer": "ipython3",
   "version": "3.8.8"
  }
 },
 "nbformat": 4,
 "nbformat_minor": 5
}
